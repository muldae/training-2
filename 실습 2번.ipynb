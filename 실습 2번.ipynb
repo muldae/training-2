{
 "cells": [
  {
   "cell_type": "markdown",
   "id": "921641d6",
   "metadata": {},
   "source": [
    "### map( ) 과 filter( )을 사용하여서 [1, 2, 3, 4, 5, 6, 7, 8, 9, 10] 중에서 짝수의 제곱으로 새로운 리스트를 만드는 Python 코드를 작성해보자."
   ]
  },
  {
   "cell_type": "markdown",
   "id": "f657cf72",
   "metadata": {},
   "source": [
    "먼저 주어진 리스트에서 filter와 lambda 함수를 이용하여 list_1에서 짝수만 남긴 list_2라는 함수를 만듭니다."
   ]
  },
  {
   "cell_type": "code",
   "execution_count": 1,
   "id": "8ec9909d",
   "metadata": {},
   "outputs": [],
   "source": [
    "list_1 = [1, 2, 3, 4, 5, 6, 7, 8, 9, 10]\n",
    "list_2 = list(filter(lambda x: x % 2 == 0, list_1))"
   ]
  },
  {
   "cell_type": "markdown",
   "id": "e0c363b4",
   "metadata": {},
   "source": [
    "그 후 map 함수를 이용하여 list_2의 각각의 요소들을 제곱한 값을 list로 만들어 list_3에 반환한 뒤 출력하면 짝수의 제곱으로 이루어진 새로운 리스트가 만들어지게 됩니다."
   ]
  },
  {
   "cell_type": "code",
   "execution_count": 2,
   "id": "690fb29c",
   "metadata": {},
   "outputs": [],
   "source": [
    "list_3 = list(map(lambda x: x ** 2, list_2))"
   ]
  },
  {
   "cell_type": "markdown",
   "id": "db3103a8",
   "metadata": {},
   "source": [
    "아래는 출력값입니다."
   ]
  },
  {
   "cell_type": "code",
   "execution_count": 3,
   "id": "6287a090",
   "metadata": {},
   "outputs": [
    {
     "name": "stdout",
     "output_type": "stream",
     "text": [
      "[4, 16, 36, 64, 100]\n"
     ]
    }
   ],
   "source": [
    "print(list_3)"
   ]
  },
  {
   "cell_type": "markdown",
   "id": "5c270529",
   "metadata": {},
   "source": [
    "### 로또(lotto)를 시뮬레이션하는 Python code를 작성해보자. 로또(lotto)를 구매하는 사용자를 가정하자. 그가 구매한 6개 번호를 입력으로 받아들이자. 유효한 번호를 입력할 수 있도록 유도하자. 가령 이미 입력한 번호와 같은 번호를 입력하거나 또는 범위 밖의 번호를 입력하지 않도록 검증하자. 로또 번호는 random 모듈을 이용하여 생성하자. 구매자가 몇 개의 번호를 맞췄는지 판별하고, 몇 등에 당첨되었는지 발표하자."
   ]
  },
  {
   "cell_type": "markdown",
   "id": "5c8d684a",
   "metadata": {},
   "source": [
    "먼저 로또 번호를 만들 random을 rd로 import 해줍니다"
   ]
  },
  {
   "cell_type": "code",
   "execution_count": 4,
   "id": "6f90c833",
   "metadata": {},
   "outputs": [],
   "source": [
    "import random as rd"
   ]
  },
  {
   "cell_type": "markdown",
   "id": "79e9f71a",
   "metadata": {},
   "source": [
    "#### 사용자의 로또 번호를 입력받습니다.\n",
    "이 때, if 문을 사용하여 범위 밖의 번호나 중복된 번호를 입력하면 강제 종료되게 만들어줍니다."
   ]
  },
  {
   "cell_type": "code",
   "execution_count": 5,
   "id": "ccf8e89b",
   "metadata": {},
   "outputs": [],
   "source": [
    "def user_numbers():\n",
    "    user_number = []\n",
    "\n",
    "    for i in range(6):\n",
    "        n = int(input(f\"{i+1}번째 숫자를 입력해주세요.(숫자는 1부터 45, 중복 X): \"))\n",
    "\n",
    "        if (1 <= n <= 45) == False:\n",
    "            print(\"잘못된 입력입니다.(숫자 범위를 벗어납니다.)\")\n",
    "            return\n",
    "\n",
    "\n",
    "\n",
    "        for j in user_number:\n",
    "            if n == j:\n",
    "                print(\"잘못된 입력입니다.(입력한 숫자가 중복됩니다.)\")\n",
    "                return\n",
    "\n",
    "        user_number.append(n)\n",
    "\n",
    "    return user_number\n"
   ]
  },
  {
   "cell_type": "markdown",
   "id": "c3be8fcd",
   "metadata": {},
   "source": [
    "#### 그리고 로또번호를 random 함수를 이용해 만들어줍니다."
   ]
  },
  {
   "cell_type": "code",
   "execution_count": 6,
   "id": "958fa546",
   "metadata": {},
   "outputs": [],
   "source": [
    "def lotto():\n",
    "    return rd.sample(range(1, 46), 6)"
   ]
  },
  {
   "cell_type": "markdown",
   "id": "cb1236d8",
   "metadata": {},
   "source": [
    "위의 두 함수로 만든 사용자 번호와 로또 번호를 교집합 연산자로 비교합니다."
   ]
  },
  {
   "cell_type": "code",
   "execution_count": 7,
   "id": "038fd131",
   "metadata": {},
   "outputs": [],
   "source": [
    "def compare(user_numbers, lotto_numbers):\n",
    "    matched_numbers = set(user_numbers) & set(lotto_numbers)\n",
    "    return list(matched_numbers)"
   ]
  },
  {
   "cell_type": "markdown",
   "id": "62d290be",
   "metadata": {},
   "source": [
    "#### 보너스 번호를 만들어줍니다.\n",
    "로또에서 2등을 하려면 숫자 5개 + 보너스 번호까지 일치해야합니다. 이 보너스번호가 로또 번호와 일치하지 않게 while 과 in 을 이용하여 \n",
    "랜덤으로 나온 보너스 번호가 로또번호를 의미하는 리스트 안의 숫자와 중복하지 않을 때 까지 번호를 랜덤으로 바꾸게 만들었습니다."
   ]
  },
  {
   "cell_type": "code",
   "execution_count": 18,
   "id": "d51b10ae",
   "metadata": {},
   "outputs": [],
   "source": [
    "def bonus_number():\n",
    "    bonus_number = rd.randint(1,45)\n",
    "    while bonus_number in lotto_nums:\n",
    "        bonus_number = rd.randint(1,45)\n",
    "    \n",
    "    return bonus_number"
   ]
  },
  {
   "cell_type": "markdown",
   "id": "9c4fce32",
   "metadata": {},
   "source": [
    "#### 마지막으로 사용자의 로또의 등수를 출력합니다.\n",
    "\n",
    "이 때, user_nums가 제대로 설정 되었을 때만 함수가 작동되게 하기 위해 if user_nums: 구문으로 user_nums가 존재해 값이 true일 때만 함수가 작동되게 만들었습니다."
   ]
  },
  {
   "cell_type": "code",
   "execution_count": 27,
   "id": "aae57d75",
   "metadata": {},
   "outputs": [
    {
     "name": "stdout",
     "output_type": "stream",
     "text": [
      "1번째 숫자를 입력해주세요.(숫자는 1부터 45, 중복 X): 7\n",
      "2번째 숫자를 입력해주세요.(숫자는 1부터 45, 중복 X): 14\n",
      "3번째 숫자를 입력해주세요.(숫자는 1부터 45, 중복 X): 2\n",
      "4번째 숫자를 입력해주세요.(숫자는 1부터 45, 중복 X): 1\n",
      "5번째 숫자를 입력해주세요.(숫자는 1부터 45, 중복 X): 36\n",
      "6번째 숫자를 입력해주세요.(숫자는 1부터 45, 중복 X): 41\n",
      "당첨되지 않았습니다.\n"
     ]
    }
   ],
   "source": [
    "user_nums = user_numbers()\n",
    "\n",
    "if user_nums:\n",
    "    lotto_nums = lotto()\n",
    "    bonus_num = bonus_number()\n",
    "    \n",
    "    matched_nums = compare(user_nums, lotto_nums)\n",
    "    bonus_matched = bonus_num in user_nums\n",
    "    rank = len(matched_nums)\n",
    "\n",
    "    if rank == 6:\n",
    "        print('1등')\n",
    "    elif rank == 5 and bonus_matched == True:\n",
    "        print('2등')\n",
    "    elif rank == 5 and bonus_matched == False:\n",
    "        print('3등')\n",
    "    elif rank == 4:\n",
    "        print('4등')\n",
    "    elif rank == 3:\n",
    "        print('5등')\n",
    "    else:\n",
    "        print('당첨되지 않았습니다.')\n",
    "    "
   ]
  },
  {
   "cell_type": "markdown",
   "id": "46754620",
   "metadata": {},
   "source": [
    "#### 한국중학교에 다니는 학생들은 각자 정수 번호를 갖고 있습니다. 이 학교 학생 3명의 정수 번호를 더했을 때 0이 되면 3명의 학생은 삼총사라고 합니다. 예를 들어, 5명의 학생이 있고, 각각의 정수 번호가 순서대로 -2, 3, 0, 2, -5일 때, 첫 번째, 세 번째, 네 번째 학생의 정수 번호를 더하면 0이므로 세 학생은 삼총사입니다. 또한, 두 번째, 네 번째, 다섯 번째 학생의 정수 번호를 더해도 0이므로 세 학생도 삼총사입니다. 따라서 이 경우 한국중학교에서는 두 가지 방법으로 삼총사를 만들 수 있습니다.\n",
    "\n",
    "한국중학교 학생들의 번호를 나타내는 정수 배열 number가 매개변수로 주어질 때, 학생들 중 삼총사를 만들 수 있는 방법의 수를 return 하도록 solution 함수를 완성하세요.\n",
    "\n",
    "제한사항\n",
    "* 3 ≤ number의 길이 ≤ 13\n",
    "* -1,000 ≤ number의 각 원소 ≤ 1,000\n",
    "* 서로 다른 학생의 정수 번호가 같을 수 있습니다.\n",
    "\n",
    "#### 입출력 예\n",
    "\n",
    "    number        result\n",
    "\n",
    "* [-2, 3, 0, 2, -5]        2\n",
    "* [-3, -2, -1, 0, 1, 2, 3]     5\n",
    "* [-1, 1, -1, 1]         0\n",
    "\n",
    "#### 입출력 예 설명\n",
    "\n",
    "* 입출력 예 #1   \n",
    "문제 예시와 같습니다.  \n",
    "* 입출력 예 #2   \n",
    "학생들의 정수 번호 쌍 (-3, 0, 3), (-2, 0, 2), (-1, 0, 1), (-2, -1, 3), (-3, 1, 2) 이 삼총사가 될 수 있으므로, 5를 return 합니다.\n",
    "* 입출력 예 #3   \n",
    "삼총사가 될 수 있는 방법이 없습니다.\n"
   ]
  },
  {
   "cell_type": "markdown",
   "id": "c671bfdc",
   "metadata": {},
   "source": [
    "먼저 순열 함수를 사용해야하므로 combinations을 import 해줍니다."
   ]
  },
  {
   "cell_type": "code",
   "execution_count": 30,
   "id": "09068300",
   "metadata": {},
   "outputs": [],
   "source": [
    "from itertools import combinations"
   ]
  },
  {
   "cell_type": "markdown",
   "id": "52fd72b7",
   "metadata": {},
   "source": [
    "#### 3총사를 구하는 함수를 만듭니다.\n",
    "순열 함수를 이용해 매개변수 number에서 3개를 고른 리스트의 합이 0인 경우를 변수 num3 += 1을 통해 세어줍니다.\n",
    "입출력 예시를 만족시키기 위해 리스트도 따로 만들어 sum == 0 일 때의 삼총사 리스트를 넣어줍니다."
   ]
  },
  {
   "cell_type": "code",
   "execution_count": 34,
   "id": "0e5b3432",
   "metadata": {},
   "outputs": [],
   "source": [
    "def three(number):\n",
    "    num3 = 0\n",
    "    num3_list = []\n",
    "    \n",
    "    for combi in combinations(number, 3):\n",
    "        if sum(combi) == 0:\n",
    "            num3 += 1\n",
    "            num3_list.append(combi)\n",
    "            \n",
    "    if num3 >= 1:\n",
    "        print(f\"학생들의 정수 번호 쌍\",num3_list,f\"이 삼총사가 될 수 있으므로, {num3}를 return 합니다.\")\n",
    "        return num3\n",
    "    else:\n",
    "        print(\"삼총사가 될 수 있는 방법이 없습니다.\")\n",
    "        return num3\n",
    "\n",
    "    "
   ]
  },
  {
   "cell_type": "markdown",
   "id": "72c29c27",
   "metadata": {},
   "source": [
    "아래는 출력 예시입니다."
   ]
  },
  {
   "cell_type": "code",
   "execution_count": 41,
   "id": "2b81ac5d",
   "metadata": {},
   "outputs": [
    {
     "name": "stdout",
     "output_type": "stream",
     "text": [
      "학생들의 정수 번호 쌍 [(-2, 0, 2), (3, 2, -5)] 이 삼총사가 될 수 있으므로, 2를 return 합니다.\n"
     ]
    },
    {
     "data": {
      "text/plain": [
       "2"
      ]
     },
     "execution_count": 41,
     "metadata": {},
     "output_type": "execute_result"
    }
   ],
   "source": [
    "number1 = [-2, 3, 0, 2, -5]\n",
    "number2 = [-3, -2, -1, 0, 1, 2, 3]\n",
    "number3 = [-1, 1, -1, 1]     \n",
    "number4 = [2, 2, 0, 0, -2, -2]\n",
    "\n",
    "three(number1)"
   ]
  },
  {
   "cell_type": "code",
   "execution_count": 36,
   "id": "0fca9b7a",
   "metadata": {},
   "outputs": [
    {
     "name": "stdout",
     "output_type": "stream",
     "text": [
      "학생들의 정수 번호 쌍 [(-3, 0, 3), (-3, 1, 2), (-2, -1, 3), (-2, 0, 2), (-1, 0, 1)] 이 삼총사가 될 수 있으므로, 5를 return 합니다.\n"
     ]
    },
    {
     "data": {
      "text/plain": [
       "5"
      ]
     },
     "execution_count": 36,
     "metadata": {},
     "output_type": "execute_result"
    }
   ],
   "source": [
    "three(number2)"
   ]
  },
  {
   "cell_type": "code",
   "execution_count": 37,
   "id": "85e7dd77",
   "metadata": {},
   "outputs": [
    {
     "name": "stdout",
     "output_type": "stream",
     "text": [
      "삼총사가 될 수 있는 방법이 없습니다.\n"
     ]
    },
    {
     "data": {
      "text/plain": [
       "0"
      ]
     },
     "execution_count": 37,
     "metadata": {},
     "output_type": "execute_result"
    }
   ],
   "source": [
    "three(number3)"
   ]
  },
  {
   "cell_type": "code",
   "execution_count": 42,
   "id": "048c21ea",
   "metadata": {},
   "outputs": [
    {
     "name": "stdout",
     "output_type": "stream",
     "text": [
      "학생들의 정수 번호 쌍 [(2, 0, -2), (2, 0, -2), (2, 0, -2), (2, 0, -2), (2, 0, -2), (2, 0, -2), (2, 0, -2), (2, 0, -2)] 이 삼총사가 될 수 있으므로, 8를 return 합니다.\n"
     ]
    },
    {
     "data": {
      "text/plain": [
       "8"
      ]
     },
     "execution_count": 42,
     "metadata": {},
     "output_type": "execute_result"
    }
   ],
   "source": [
    "three(number4)"
   ]
  }
 ],
 "metadata": {
  "kernelspec": {
   "display_name": "Python 3 (ipykernel)",
   "language": "python",
   "name": "python3"
  },
  "language_info": {
   "codemirror_mode": {
    "name": "ipython",
    "version": 3
   },
   "file_extension": ".py",
   "mimetype": "text/x-python",
   "name": "python",
   "nbconvert_exporter": "python",
   "pygments_lexer": "ipython3",
   "version": "3.11.7"
  }
 },
 "nbformat": 4,
 "nbformat_minor": 5
}
